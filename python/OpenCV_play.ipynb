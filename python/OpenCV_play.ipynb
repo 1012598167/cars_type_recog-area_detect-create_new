{
 "cells": [
  {
   "cell_type": "code",
   "execution_count": 1,
   "metadata": {},
   "outputs": [],
   "source": [
    "import cv2\n",
    "import math\n",
    "import numpy as np\n",
    "from matplotlib import pyplot as plt\n",
    "from PIL import Image"
   ]
  },
  {
   "cell_type": "code",
   "execution_count": 2,
   "metadata": {},
   "outputs": [],
   "source": [
    "imgFile = './play/1.jpg'\n",
    "# load an original image\n",
    "img = cv2.imread(imgFile)\n",
    "# color value range\n",
    "cRange = 256\n",
    "\n",
    "rows,cols,channels = img.shape\n",
    "\n",
    "# convert color space from bgr to gray\n",
    "img = cv2.cvtColor(img, cv2.COLOR_BGR2RGB)\n",
    "imgGray = cv2.cvtColor(img, cv2.COLOR_BGR2GRAY)\n",
    "# otsu method\n",
    "threshold,imgOtsu = cv2.threshold(imgGray,0,255,cv2.THRESH_BINARY + cv2.THRESH_OTSU)"
   ]
  },
  {
   "cell_type": "code",
   "execution_count": 3,
   "metadata": {},
   "outputs": [],
   "source": [
    "new_im = Image.fromarray(imgOtsu.astype(np.uint8))\n",
    "new_im.show()\n",
    "new_im.save('./play/s1.jpg')"
   ]
  }
 ],
 "metadata": {
  "kernelspec": {
   "display_name": "Python 3",
   "language": "python",
   "name": "python3"
  },
  "language_info": {
   "codemirror_mode": {
    "name": "ipython",
    "version": 3
   },
   "file_extension": ".py",
   "mimetype": "text/x-python",
   "name": "python",
   "nbconvert_exporter": "python",
   "pygments_lexer": "ipython3",
   "version": "3.7.3"
  }
 },
 "nbformat": 4,
 "nbformat_minor": 2
}
