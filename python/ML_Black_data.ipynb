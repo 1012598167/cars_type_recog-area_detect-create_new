{
 "cells": [
  {
   "cell_type": "code",
   "execution_count": 1,
   "metadata": {},
   "outputs": [],
   "source": [
    "import cv2\n",
    "import numpy as np\n",
    "import pandas as pd\n",
    "from sklearn.model_selection import train_test_split\n",
    "from sklearn.metrics import make_scorer\n",
    "from sklearn.svm import SVC\n",
    "from sklearn.ensemble import RandomForestClassifier\n",
    "from sklearn.tree import DecisionTreeClassifier"
   ]
  },
  {
   "cell_type": "code",
   "execution_count": 2,
   "metadata": {},
   "outputs": [],
   "source": [
    "def load_image():\n",
    "    T = []\n",
    "    for i in range(1, 8001):\n",
    "        if i < 10:\n",
    "            location = '000' + str(i)\n",
    "        elif i < 100:\n",
    "            location = '00' + str(i)\n",
    "        elif i < 1000:\n",
    "            location = '0' + str(i)\n",
    "        else:\n",
    "            location = str(i)\n",
    "        image = cv2.imread('./Black_data/0' + location + '.jpg', cv2.IMREAD_GRAYSCALE)\n",
    "        T.append(image)\n",
    "    return T\n",
    "data = load_image()\n",
    "#data #8000*32*32"
   ]
  },
  {
   "cell_type": "code",
   "execution_count": 3,
   "metadata": {},
   "outputs": [],
   "source": [
    "info = []\n",
    "for i in range(0, 8000):\n",
    "    tmp = []\n",
    "    for j in range(0, 32):\n",
    "        for k in range(0, 32):\n",
    "            tmp.append(float(data[i][j][k]))\n",
    "    info.append(tmp)"
   ]
  },
  {
   "cell_type": "code",
   "execution_count": 4,
   "metadata": {},
   "outputs": [],
   "source": [
    "csv_target = pd.read_csv('annotations.csv')\n",
    "target = csv_target['class'][:8000]"
   ]
  },
  {
   "cell_type": "code",
   "execution_count": 5,
   "metadata": {},
   "outputs": [],
   "source": [
    "x1_train, x1_test, y1_train, y1_test = train_test_split(info, target, test_size=0.2)"
   ]
  },
  {
   "cell_type": "code",
   "execution_count": 11,
   "metadata": {},
   "outputs": [
    {
     "data": {
      "text/plain": [
       "DecisionTreeClassifier(class_weight=None, criterion='gini', max_depth=None,\n",
       "            max_features=None, max_leaf_nodes=None,\n",
       "            min_impurity_decrease=0.0, min_impurity_split=None,\n",
       "            min_samples_leaf=1, min_samples_split=2,\n",
       "            min_weight_fraction_leaf=0.0, presort=False, random_state=None,\n",
       "            splitter='best')"
      ]
     },
     "execution_count": 11,
     "metadata": {},
     "output_type": "execute_result"
    }
   ],
   "source": [
    "# 决策树算法\n",
    "dt = DecisionTreeClassifier()\n",
    "dt.fit(x1_train, y1_train)"
   ]
  },
  {
   "cell_type": "code",
   "execution_count": 12,
   "metadata": {},
   "outputs": [
    {
     "name": "stdout",
     "output_type": "stream",
     "text": [
      "训练集准确率：99.89%\n",
      "测试集准确率：1.12%\n"
     ]
    }
   ],
   "source": [
    "s_train = dt.score(x1_train, y1_train)\n",
    "print(\"训练集准确率：{}%\".format(int(s_train*10000)/100))\n",
    "s_test = dt.score(x1_test, y1_test)\n",
    "print(\"测试集准确率：{}%\".format(int(s_test*10000)/100))"
   ]
  },
  {
   "cell_type": "code",
   "execution_count": 13,
   "metadata": {},
   "outputs": [
    {
     "name": "stderr",
     "output_type": "stream",
     "text": [
      "C:\\ProgramData\\Anaconda3\\lib\\site-packages\\sklearn\\ensemble\\forest.py:458: UserWarning: Some inputs do not have OOB scores. This probably means too few trees were used to compute any reliable oob estimates.\n",
      "  warn(\"Some inputs do not have OOB scores. \"\n",
      "C:\\ProgramData\\Anaconda3\\lib\\site-packages\\sklearn\\ensemble\\forest.py:463: RuntimeWarning: invalid value encountered in true_divide\n",
      "  predictions[k].sum(axis=1)[:, np.newaxis])\n"
     ]
    },
    {
     "data": {
      "text/plain": [
       "RandomForestClassifier(bootstrap=True, class_weight=None, criterion='gini',\n",
       "            max_depth=None, max_features='auto', max_leaf_nodes=None,\n",
       "            min_impurity_decrease=0.0, min_impurity_split=None,\n",
       "            min_samples_leaf=1, min_samples_split=2,\n",
       "            min_weight_fraction_leaf=0.0, n_estimators=10, n_jobs=None,\n",
       "            oob_score=True, random_state=None, verbose=0, warm_start=False)"
      ]
     },
     "execution_count": 13,
     "metadata": {},
     "output_type": "execute_result"
    }
   ],
   "source": [
    "# 随机森林算法\n",
    "rf = RandomForestClassifier(n_estimators = 10, oob_score = True)\n",
    "rf.fit(x1_train, y1_train)"
   ]
  },
  {
   "cell_type": "code",
   "execution_count": 14,
   "metadata": {},
   "outputs": [
    {
     "name": "stdout",
     "output_type": "stream",
     "text": [
      "训练集准确率：99.71%\n",
      "测试集准确率：1.06%\n"
     ]
    }
   ],
   "source": [
    "s_train = rf.score(x1_train, y1_train)\n",
    "print(\"训练集准确率：{}%\".format(int(s_train*10000)/100))\n",
    "s_test = rf.score(x1_test, y1_test)\n",
    "print(\"测试集准确率：{}%\".format(int(s_test*10000)/100))"
   ]
  },
  {
   "cell_type": "code",
   "execution_count": 15,
   "metadata": {},
   "outputs": [
    {
     "name": "stdout",
     "output_type": "stream",
     "text": [
      "训练集最高准确率：99.89%\n",
      "测试集最高准确率：1.5%\n"
     ]
    }
   ],
   "source": [
    "#求最高准确率\n",
    "s1_rf_ = []\n",
    "s2_rf_ = []\n",
    "for i in range(0, 10):\n",
    "    rf = RandomForestClassifier(n_estimators = 20)\n",
    "    rf.fit(x1_train, y1_train)\n",
    "    s1_rf = rf.score(x1_train, y1_train)\n",
    "    s1_rf_.append(s1_rf)\n",
    "    s2_rf = rf.score(x1_test, y1_test)\n",
    "    s2_rf_.append(s2_rf)\n",
    "print(\"训练集最高准确率：{}%\".format(int(max(s1_rf_)*10000)/100))\n",
    "print(\"测试集最高准确率：{}%\".format(int(max(s2_rf_)*10000)/100))"
   ]
  },
  {
   "cell_type": "code",
   "execution_count": 16,
   "metadata": {},
   "outputs": [
    {
     "name": "stderr",
     "output_type": "stream",
     "text": [
      "C:\\ProgramData\\Anaconda3\\lib\\site-packages\\sklearn\\svm\\base.py:196: FutureWarning: The default value of gamma will change from 'auto' to 'scale' in version 0.22 to account better for unscaled features. Set gamma explicitly to 'auto' or 'scale' to avoid this warning.\n",
      "  \"avoid this warning.\", FutureWarning)\n"
     ]
    }
   ],
   "source": [
    "# SVM算法\n",
    "# rbf核函数，设置数据权重\n",
    "svc = SVC(kernel='rbf', class_weight='balanced')\n",
    "# 训练模型\n",
    "clf = svc.fit(x1_train, y1_train)"
   ]
  },
  {
   "cell_type": "code",
   "execution_count": 17,
   "metadata": {},
   "outputs": [
    {
     "name": "stdout",
     "output_type": "stream",
     "text": [
      "训练集准确率：99.89%\n",
      "测试集准确率：0.56%\n"
     ]
    }
   ],
   "source": [
    "s_train = svc.score(x1_train, y1_train)\n",
    "print(\"训练集准确率：{}%\".format(int(s_train*10000)/100))\n",
    "s_test = svc.score(x1_test, y1_test)\n",
    "print(\"测试集准确率：{}%\".format(int(s_test*10000)/100))"
   ]
  },
  {
   "cell_type": "code",
   "execution_count": 6,
   "metadata": {},
   "outputs": [
    {
     "name": "stdout",
     "output_type": "stream",
     "text": [
      "训练集准确率：99.89%\n",
      "测试集准确率：0.75%\n"
     ]
    }
   ],
   "source": [
    "# 调参优化\n",
    "from sklearn.preprocessing import StandardScaler\n",
    "from sklearn.model_selection import GridSearchCV\n",
    "svc = SVC(kernel='rbf', class_weight='balanced',)\n",
    "c_range = np.logspace(-5, 15, 11, base=2)\n",
    "gamma_range = np.logspace(-9, 3, 13, base=2)\n",
    "# 网格搜索交叉验证的参数范围，cv=3,3折交叉\n",
    "param_grid = [{'kernel': ['rbf'], 'C': c_range, 'gamma': gamma_range}]# 参数列表，表明参数范围\n",
    "grid = GridSearchCV(svc, param_grid, cv=3, n_jobs=-1)# 寻找最优参数，传递给模型\n",
    "# 训练模型\n",
    "clf = grid.fit(x1_train, y1_train)\n",
    "s_train = grid.score(x1_train, y1_train)\n",
    "print(\"训练集准确率：{}%\".format(int(s_train*10000)/100))\n",
    "s_test = grid.score(x1_test, y1_test)\n",
    "print(\"测试集准确率：{}%\".format(int(s_test*10000)/100))"
   ]
  }
 ],
 "metadata": {
  "kernelspec": {
   "display_name": "Python 3",
   "language": "python",
   "name": "python3"
  },
  "language_info": {
   "codemirror_mode": {
    "name": "ipython",
    "version": 3
   },
   "file_extension": ".py",
   "mimetype": "text/x-python",
   "name": "python",
   "nbconvert_exporter": "python",
   "pygments_lexer": "ipython3",
   "version": "3.7.3"
  }
 },
 "nbformat": 4,
 "nbformat_minor": 2
}
