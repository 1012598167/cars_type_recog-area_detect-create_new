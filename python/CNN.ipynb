{
 "cells": [
  {
   "cell_type": "code",
   "execution_count": 1,
   "metadata": {},
   "outputs": [
    {
     "name": "stderr",
     "output_type": "stream",
     "text": [
      "Using TensorFlow backend.\n"
     ]
    }
   ],
   "source": [
    "from keras.models import Sequential\n",
    "from keras.layers import Dense, Dropout, Activation, Flatten\n",
    "from keras.layers import Conv2D,MaxPooling2D,ZeroPadding2D\n",
    "from keras.preprocessing import image\n",
    "import numpy as np"
   ]
  },
  {
   "cell_type": "code",
   "execution_count": 3,
   "metadata": {},
   "outputs": [],
   "source": [
    "def load_image():\n",
    "    T = []\n",
    "    for i in range(1, 8001):\n",
    "        if i < 10:\n",
    "            location = '000' + str(i)\n",
    "        elif i < 100:\n",
    "            location = '00' + str(i)\n",
    "        elif i < 1000:\n",
    "            location = '0' + str(i)\n",
    "        else:\n",
    "            location = str(i)\n",
    "        image_load = image.load_img('./solved_data/0' + location + '.jpg', target_size = (64, 64))\n",
    "        image_load = image.img_to_array(image_load)\n",
    "        T.append(image_load)\n",
    "    return T\n",
    "x = load_image()\n",
    "#data #8000*64*64*3"
   ]
  },
  {
   "cell_type": "code",
   "execution_count": 4,
   "metadata": {},
   "outputs": [],
   "source": [
    "x = np.array(x)"
   ]
  },
  {
   "cell_type": "code",
   "execution_count": 5,
   "metadata": {},
   "outputs": [
    {
     "data": {
      "text/plain": [
       "(8000, 64, 64, 3)"
      ]
     },
     "execution_count": 5,
     "metadata": {},
     "output_type": "execute_result"
    }
   ],
   "source": [
    "x.shape"
   ]
  },
  {
   "cell_type": "code",
   "execution_count": 6,
   "metadata": {},
   "outputs": [],
   "source": [
    "import pandas as pd\n",
    "train_dataset = pd.read_csv('annotations.csv')\n",
    "target = train_dataset['class']"
   ]
  },
  {
   "cell_type": "code",
   "execution_count": 7,
   "metadata": {},
   "outputs": [],
   "source": [
    "y = []\n",
    "for i in range(0, 8000):\n",
    "    y.append(int(target[i]))"
   ]
  },
  {
   "cell_type": "code",
   "execution_count": 8,
   "metadata": {},
   "outputs": [],
   "source": [
    "y = np.array(y)"
   ]
  },
  {
   "cell_type": "code",
   "execution_count": 9,
   "metadata": {},
   "outputs": [],
   "source": [
    "from sklearn.model_selection import train_test_split\n",
    "x_train, x_test, y_train, y_test = train_test_split(x, y, test_size=0.1)"
   ]
  },
  {
   "cell_type": "code",
   "execution_count": 10,
   "metadata": {},
   "outputs": [],
   "source": [
    "x_train_nomalized = x_train.astype(\"float\")/255\n",
    "x_test_normalized = x_test.astype(\"float\")/255"
   ]
  },
  {
   "cell_type": "code",
   "execution_count": 11,
   "metadata": {},
   "outputs": [],
   "source": [
    "from keras.utils import np_utils\n",
    "y_train_onehot = np_utils.to_categorical(y_train)\n",
    "y_test_onehot = np_utils.to_categorical(y_test)"
   ]
  },
  {
   "cell_type": "code",
   "execution_count": 12,
   "metadata": {},
   "outputs": [
    {
     "name": "stdout",
     "output_type": "stream",
     "text": [
      "WARNING:tensorflow:From C:\\ProgramData\\Anaconda3\\lib\\site-packages\\tensorflow\\python\\framework\\op_def_library.py:263: colocate_with (from tensorflow.python.framework.ops) is deprecated and will be removed in a future version.\n",
      "Instructions for updating:\n",
      "Colocations handled automatically by placer.\n",
      "WARNING:tensorflow:From C:\\ProgramData\\Anaconda3\\lib\\site-packages\\keras\\backend\\tensorflow_backend.py:3445: calling dropout (from tensorflow.python.ops.nn_ops) with keep_prob is deprecated and will be removed in a future version.\n",
      "Instructions for updating:\n",
      "Please use `rate` instead of `keep_prob`. Rate should be set to `rate = 1 - keep_prob`.\n"
     ]
    }
   ],
   "source": [
    "model = Sequential()\n",
    "model.add(Conv2D(filters = 64, kernel_size = (2, 2), input_shape = (64, 64, 3), activation = 'relu'))\n",
    "model.add(Dropout(rate=0.1))\n",
    "model.add(MaxPooling2D(pool_size = (2,2)))\n",
    "\n",
    "model.add(Conv2D(filters = 64, kernel_size = (3, 3), activation = 'relu'))\n",
    "model.add(Dropout(0.1))\n",
    "model.add(MaxPooling2D(pool_size = (2,2)))\n",
    "\n",
    "model.add(Flatten()) #把多维的输入一维化\n",
    "\n",
    "###从卷积层到全连接层的过渡###\n",
    "model.add(Dense(1000, activation = 'relu'))\n",
    "model.add(Dense(500, activation = 'sigmoid'))\n",
    "model.add(Dense(197, activation = 'softmax'))"
   ]
  },
  {
   "cell_type": "code",
   "execution_count": 13,
   "metadata": {},
   "outputs": [
    {
     "name": "stdout",
     "output_type": "stream",
     "text": [
      "_________________________________________________________________\n",
      "Layer (type)                 Output Shape              Param #   \n",
      "=================================================================\n",
      "conv2d_1 (Conv2D)            (None, 63, 63, 64)        832       \n",
      "_________________________________________________________________\n",
      "dropout_1 (Dropout)          (None, 63, 63, 64)        0         \n",
      "_________________________________________________________________\n",
      "max_pooling2d_1 (MaxPooling2 (None, 31, 31, 64)        0         \n",
      "_________________________________________________________________\n",
      "conv2d_2 (Conv2D)            (None, 29, 29, 64)        36928     \n",
      "_________________________________________________________________\n",
      "dropout_2 (Dropout)          (None, 29, 29, 64)        0         \n",
      "_________________________________________________________________\n",
      "max_pooling2d_2 (MaxPooling2 (None, 14, 14, 64)        0         \n",
      "_________________________________________________________________\n",
      "flatten_1 (Flatten)          (None, 12544)             0         \n",
      "_________________________________________________________________\n",
      "dense_1 (Dense)              (None, 1000)              12545000  \n",
      "_________________________________________________________________\n",
      "dense_2 (Dense)              (None, 500)               500500    \n",
      "_________________________________________________________________\n",
      "dense_3 (Dense)              (None, 197)               98697     \n",
      "=================================================================\n",
      "Total params: 13,181,957\n",
      "Trainable params: 13,181,957\n",
      "Non-trainable params: 0\n",
      "_________________________________________________________________\n"
     ]
    }
   ],
   "source": [
    "model.summary()"
   ]
  },
  {
   "cell_type": "code",
   "execution_count": 14,
   "metadata": {},
   "outputs": [],
   "source": [
    "#定义参数\n",
    "epochs = 10\n",
    "batch_size = 50"
   ]
  },
  {
   "cell_type": "code",
   "execution_count": 15,
   "metadata": {},
   "outputs": [
    {
     "name": "stdout",
     "output_type": "stream",
     "text": [
      "WARNING:tensorflow:From C:\\ProgramData\\Anaconda3\\lib\\site-packages\\tensorflow\\python\\ops\\math_ops.py:3066: to_int32 (from tensorflow.python.ops.math_ops) is deprecated and will be removed in a future version.\n",
      "Instructions for updating:\n",
      "Use tf.cast instead.\n",
      "Train on 6480 samples, validate on 720 samples\n",
      "Epoch 1/10\n",
      "6480/6480 [==============================] - 22s 3ms/step - loss: 5.3296 - acc: 0.0057 - val_loss: 5.2142 - val_acc: 0.0097\n",
      "Epoch 2/10\n",
      "6480/6480 [==============================] - 10s 2ms/step - loss: 5.1798 - acc: 0.0088 - val_loss: 5.1297 - val_acc: 0.0153\n",
      "Epoch 3/10\n",
      "6480/6480 [==============================] - 10s 2ms/step - loss: 5.0588 - acc: 0.0177 - val_loss: 5.0357 - val_acc: 0.0181\n",
      "Epoch 4/10\n",
      "6480/6480 [==============================] - 10s 2ms/step - loss: 4.7778 - acc: 0.0415 - val_loss: 4.7169 - val_acc: 0.0556\n",
      "Epoch 5/10\n",
      "6480/6480 [==============================] - 10s 2ms/step - loss: 4.2255 - acc: 0.1071 - val_loss: 4.4683 - val_acc: 0.0639\n",
      "Epoch 6/10\n",
      "6480/6480 [==============================] - 10s 2ms/step - loss: 3.4139 - acc: 0.2386 - val_loss: 4.3384 - val_acc: 0.0972\n",
      "Epoch 7/10\n",
      "6480/6480 [==============================] - 10s 2ms/step - loss: 2.4480 - acc: 0.4522 - val_loss: 4.3029 - val_acc: 0.1014\n",
      "Epoch 8/10\n",
      "6480/6480 [==============================] - 10s 2ms/step - loss: 1.4562 - acc: 0.7091 - val_loss: 4.5042 - val_acc: 0.1083\n",
      "Epoch 9/10\n",
      "6480/6480 [==============================] - 10s 2ms/step - loss: 0.6937 - acc: 0.8968 - val_loss: 4.5158 - val_acc: 0.1111\n",
      "Epoch 10/10\n",
      "6480/6480 [==============================] - 10s 2ms/step - loss: 0.2759 - acc: 0.9742 - val_loss: 4.5579 - val_acc: 0.1111\n"
     ]
    }
   ],
   "source": [
    "model.compile(loss = 'categorical_crossentropy',\n",
    "             optimizer = 'adam', metrics = ['accuracy'])\n",
    "\n",
    "train_history = model.fit(x_train_nomalized, y_train_onehot,\n",
    "                         validation_split = 0.1,\n",
    "                         epochs = epochs, batch_size = batch_size)"
   ]
  },
  {
   "cell_type": "code",
   "execution_count": 15,
   "metadata": {},
   "outputs": [
    {
     "name": "stdout",
     "output_type": "stream",
     "text": [
      "800/800 [==============================] - 0s 321us/step\n"
     ]
    }
   ],
   "source": [
    "score = model.evaluate(x_test_normalized, y_test_onehot, batch_size = 50)"
   ]
  },
  {
   "cell_type": "code",
   "execution_count": 16,
   "metadata": {},
   "outputs": [
    {
     "name": "stdout",
     "output_type": "stream",
     "text": [
      "test accuracy:13.12%\n"
     ]
    }
   ],
   "source": [
    "print(\"test accuracy:{}%\".format(int(score[1] * 10000)/100))"
   ]
  }
 ],
 "metadata": {
  "kernelspec": {
   "display_name": "Python 3",
   "language": "python",
   "name": "python3"
  },
  "language_info": {
   "codemirror_mode": {
    "name": "ipython",
    "version": 3
   },
   "file_extension": ".py",
   "mimetype": "text/x-python",
   "name": "python",
   "nbconvert_exporter": "python",
   "pygments_lexer": "ipython3",
   "version": "3.7.3"
  }
 },
 "nbformat": 4,
 "nbformat_minor": 2
}
