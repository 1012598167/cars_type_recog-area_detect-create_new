{
 "cells": [
  {
   "cell_type": "code",
   "execution_count": 1,
   "metadata": {},
   "outputs": [],
   "source": [
    "import cv2\n",
    "import math\n",
    "import numpy as np\n",
    "from matplotlib import pyplot as plt\n",
    "from PIL import Image"
   ]
  },
  {
   "cell_type": "code",
   "execution_count": 2,
   "metadata": {},
   "outputs": [],
   "source": [
    "def solve_image(imgFile, imgSave):\n",
    "    img = cv2.imread(imgFile)\n",
    "    cRange = 256\n",
    "    img = cv2.resize(img, (32, 32))\n",
    "    rows, cols, channels = img.shape\n",
    "    \n",
    "    # convert color space from bgr to gray\n",
    "    img = cv2.cvtColor(img, cv2.COLOR_BGR2RGB)\n",
    "    imgGray = cv2.cvtColor(img, cv2.COLOR_BGR2GRAY)\n",
    "    \n",
    "    # otsu method\n",
    "    threshold,imgOtsu = cv2.threshold(imgGray,0,255,cv2.THRESH_BINARY + cv2.THRESH_OTSU)\n",
    "    new_im = Image.fromarray(imgOtsu.astype(np.uint8))\n",
    "    new_im.save(imgSave)"
   ]
  },
  {
   "cell_type": "code",
   "execution_count": 3,
   "metadata": {},
   "outputs": [],
   "source": [
    "def load_image():\n",
    "    T = []\n",
    "    for i in range(1, 8001):\n",
    "        if i < 10:\n",
    "            location = '000' + str(i)\n",
    "        elif i < 100:\n",
    "            location = '00' + str(i)\n",
    "        elif i < 1000:\n",
    "            location = '0' + str(i)\n",
    "        else:\n",
    "            location = str(i)\n",
    "        imgFile = './solved_data/0' + location + '.jpg'\n",
    "        imgSave = './Black_data/0' + location + '.jpg'\n",
    "        solve_image(imgFile, imgSave)   "
   ]
  },
  {
   "cell_type": "code",
   "execution_count": 4,
   "metadata": {},
   "outputs": [],
   "source": [
    "load_image()"
   ]
  }
 ],
 "metadata": {
  "kernelspec": {
   "display_name": "Python 3",
   "language": "python",
   "name": "python3"
  },
  "language_info": {
   "codemirror_mode": {
    "name": "ipython",
    "version": 3
   },
   "file_extension": ".py",
   "mimetype": "text/x-python",
   "name": "python",
   "nbconvert_exporter": "python",
   "pygments_lexer": "ipython3",
   "version": "3.7.3"
  }
 },
 "nbformat": 4,
 "nbformat_minor": 2
}
